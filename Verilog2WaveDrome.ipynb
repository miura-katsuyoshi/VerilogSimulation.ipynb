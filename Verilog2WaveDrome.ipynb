{
  "nbformat": 4,
  "nbformat_minor": 0,
  "metadata": {
    "colab": {
      "name": "Verilog2WaveDrome.ipynb",
      "provenance": [],
      "collapsed_sections": [],
      "toc_visible": true,
      "authorship_tag": "ABX9TyMNCHuqDVAQFnyuY5fnltAh",
      "include_colab_link": true
    },
    "kernelspec": {
      "name": "python3",
      "display_name": "Python 3"
    },
    "language_info": {
      "name": "python"
    }
  },
  "cells": [
    {
      "cell_type": "markdown",
      "metadata": {
        "id": "view-in-github",
        "colab_type": "text"
      },
      "source": [
        "<a href=\"https://colab.research.google.com/github/miura-katsuyoshi/VerilogSimulation.ipynb/blob/main/Verilog2WaveDrome.ipynb\" target=\"_parent\"><img src=\"https://colab.research.google.com/assets/colab-badge.svg\" alt=\"Open In Colab\"/></a>"
      ]
    },
    {
      "cell_type": "markdown",
      "metadata": {
        "id": "6DABpxs40nW6"
      },
      "source": [
        "# Verilog2WaveDrome\n",
        "\n",
        "Verilog シミュレーションの結果を WaveDrom の JSON データに変換します。"
      ]
    },
    {
      "cell_type": "markdown",
      "metadata": {
        "id": "Za_co3mp02hR"
      },
      "source": [
        "## 準備：Icarus Verilog (iverilog) のインストール\n",
        "\n",
        "Icarus Verilog シミュレータをインストールします。最初に一度だけ、実行してください。"
      ]
    },
    {
      "cell_type": "code",
      "metadata": {
        "colab": {
          "base_uri": "https://localhost:8080/"
        },
        "id": "UMy6zCUKrQBO",
        "outputId": "26c63429-5a5f-40a9-b686-8bd0d623ea90"
      },
      "source": [
        "!apt install iverilog"
      ],
      "execution_count": 1,
      "outputs": [
        {
          "output_type": "stream",
          "text": [
            "Reading package lists... Done\n",
            "Building dependency tree       \n",
            "Reading state information... Done\n",
            "iverilog is already the newest version (10.1-0.1build1).\n",
            "0 upgraded, 0 newly installed, 0 to remove and 39 not upgraded.\n"
          ],
          "name": "stdout"
        }
      ]
    },
    {
      "cell_type": "markdown",
      "metadata": {
        "id": "h4KH7kLCxg9x"
      },
      "source": [
        "## シミュレーション実行\n",
        "\n",
        "以下のコードセルの `verilog_source = \"\"\"` から `\"\"\"` の間に、Verilog ソースコードを貼り付け、実行してください。\n",
        "\n",
        "initial ブロックの先頭で、 `$display` 関数を用いて、波形表示する信号名をコンマ区切りで表示するようにしてください。1カラム目は無視されます。複数ビットの信号は、信号名の後に `*` を付けてください。\n",
        "\n",
        "例）`$display(\"time [ns],clk,rst_n,data*,data[2],data[1],data[0]\");`\n",
        "\n",
        "クロックの立ち上がりで、`$strobe` 関数を用いて、波形表示する信号の値を表示するようにしてください。1カラム目は無視されます。\n",
        "\n",
        "例）`always @(posedge clk) $strobe(\"%t,%b,%b,%d,%b,%b,%b\", $realtime, clk, rst_n, data, data[2], data[1], data[0]);`"
      ]
    },
    {
      "cell_type": "code",
      "metadata": {
        "colab": {
          "base_uri": "https://localhost:8080/"
        },
        "id": "r17tLjWUr0o2",
        "outputId": "1d7391b5-ecd7-40d5-fbdb-3ca4376e79bd"
      },
      "source": [
        "verilog_source = \"\"\"\n",
        "// Simple counter example\n",
        "`timescale 1ns/1ns\n",
        "module main;\n",
        "  reg clk;\n",
        "  reg rst_n;\n",
        "  reg [2:0] data;\n",
        "\n",
        "  always @(posedge clk)\n",
        "    $strobe(\"%t,%b,%b,%d,%b,%b,%b\", $realtime, clk, rst_n, data, data[2], data[1], data[0]);\n",
        "\n",
        "  initial begin\n",
        "    $display(\"time [ns],clk,rst_n,data*,data[2],data[1],data[0]\");\n",
        "    rst_n <= 1'b0;\n",
        "    repeat(2) @(posedge clk);\n",
        "    rst_n <= 1'b1;\n",
        "    repeat(10) @(posedge clk);\n",
        "    $finish ;\n",
        "  end\n",
        "\n",
        "  initial clk <= 1'b1;\n",
        "  always #5 clk <= ~clk;\n",
        "\n",
        "  always @(posedge clk or negedge rst_n) begin\n",
        "    if(~rst_n) data <= 8'd0;\n",
        "    else begin\n",
        "      if(data==3) data <= 3'bz;\n",
        "      else if(data===3'bz) data <= 3'bx;\n",
        "      else if(data===3'bx) data <= 3'b0;\n",
        "      else data <= data + 1;\n",
        "    end\n",
        "  end\n",
        "endmodule\n",
        "\"\"\"\n",
        "\n",
        "with open(\"main.v\", \"wt\") as f:\n",
        "  f.write(verilog_source)\n",
        "\n",
        "!iverilog -o main main.v\n",
        "!vvp main | tee graph.txt"
      ],
      "execution_count": 2,
      "outputs": [
        {
          "output_type": "stream",
          "text": [
            "time [ns],clk,rst_n,data*,data[2],data[1],data[0]\n",
            "                   0,1,0,0,0,0,0\n",
            "                  10,1,1,0,0,0,0\n",
            "                  20,1,1,1,0,0,1\n",
            "                  30,1,1,2,0,1,0\n",
            "                  40,1,1,3,0,1,1\n",
            "                  50,1,1,z,z,z,z\n",
            "                  60,1,1,x,x,x,x\n",
            "                  70,1,1,0,0,0,0\n",
            "                  80,1,1,1,0,0,1\n",
            "                  90,1,1,2,0,1,0\n",
            "                 100,1,1,3,0,1,1\n",
            "                 110,1,1,z,z,z,z\n"
          ],
          "name": "stdout"
        }
      ]
    },
    {
      "cell_type": "markdown",
      "metadata": {
        "id": "BCcwyd4GxUUl"
      },
      "source": [
        "## WaveDrome の生成\n",
        "\n",
        "シミュレーションが実行できたら、以下のコードセルを実行し、表示されるURLをクリックしてください。\n",
        "\n",
        "クロック信号名を変えたい場合は、`CLOCK_NAME=\"clk\"` を修正してください。"
      ]
    },
    {
      "cell_type": "code",
      "metadata": {
        "colab": {
          "base_uri": "https://localhost:8080/"
        },
        "id": "83SeRUA1oDgU",
        "outputId": "3a9e93a9-ae42-4271-e52f-06217e662678"
      },
      "source": [
        "CLOCK_NAME=\"clk\"  # クロック信号\n",
        "\n",
        "import urllib\n",
        "\n",
        "with open(\"graph.txt\") as f:\n",
        "  monitor_output = f.readlines()\n",
        "\n",
        "while \"\" in monitor_output:\n",
        "  monitor_output.remove(\"\")\n",
        "for i in range(len(monitor_output)):\n",
        "  monitor_output[i] = monitor_output[i].split(',')\n",
        "  for j in range(len(monitor_output[i])):\n",
        "    monitor_output[i][j] = monitor_output[i][j].strip()\n",
        "signal_names = monitor_output.pop(0)\n",
        "is_multibit = [name[-1]==\"*\" for name in signal_names]\n",
        "for j in range(len(signal_names)):\n",
        "  if signal_names[j][-1]==\"*\":\n",
        "    signal_names[j] = signal_names[j][0:-1]\n",
        "num_signals = len(signal_names) - 1\n",
        "\n",
        "json = \"{ signal: [\\n\"\n",
        "for j in range(1,num_signals+1):\n",
        "  json += '  { name: \"'+signal_names[j]+'\",  wave: \"'\n",
        "  for i in range(len(monitor_output)):\n",
        "    if i>0 and monitor_output[i-1][j]==monitor_output[i][j]:\n",
        "      json += \".\"\n",
        "    else:\n",
        "      if is_multibit[j] and monitor_output[i][j]!=\"z\" and monitor_output[i][j]!=\"x\":\n",
        "        json += \"=\"\n",
        "      elif signal_names[j]==CLOCK_NAME:\n",
        "        json += \"P\"\n",
        "      else:\n",
        "        json += monitor_output[i][j]\n",
        "\n",
        "  if is_multibit[j]:\n",
        "    json += '\", data: \"'\n",
        "    data = []\n",
        "    for i in range(len(monitor_output)):\n",
        "      if monitor_output[i][j]!=\"z\" and monitor_output[i][j]!=\"x\" and (i==0 or monitor_output[i-1][j]!=monitor_output[i][j]):\n",
        "        data.append(monitor_output[i][j])\n",
        "    json += \" \".join(data)\n",
        "\n",
        "  json += '\" },\\n'\n",
        "json += \"]}\\n\"\n",
        "print(\"https://wavedrom.com/editor.html?\"+urllib.parse.quote(json))\n",
        "print(\"\")\n",
        "print(json, end=\"\")\n"
      ],
      "execution_count": 3,
      "outputs": [
        {
          "output_type": "stream",
          "text": [
            "https://wavedrom.com/editor.html?%7B%20signal%3A%20%5B%0A%20%20%7B%20name%3A%20%22clk%22%2C%20%20wave%3A%20%22P...........%22%20%7D%2C%0A%20%20%7B%20name%3A%20%22rst_n%22%2C%20%20wave%3A%20%2201..........%22%20%7D%2C%0A%20%20%7B%20name%3A%20%22data%22%2C%20%20wave%3A%20%22%3D.%3D%3D%3Dzx%3D%3D%3D%3Dz%22%2C%20data%3A%20%220%201%202%203%200%201%202%203%22%20%7D%2C%0A%20%20%7B%20name%3A%20%22data%5B2%5D%22%2C%20%20wave%3A%20%220....zx0...z%22%20%7D%2C%0A%20%20%7B%20name%3A%20%22data%5B1%5D%22%2C%20%20wave%3A%20%220..1.zx0.1.z%22%20%7D%2C%0A%20%20%7B%20name%3A%20%22data%5B0%5D%22%2C%20%20wave%3A%20%220.101zx0101z%22%20%7D%2C%0A%5D%7D%0A\n",
            "\n",
            "{ signal: [\n",
            "  { name: \"clk\",  wave: \"P...........\" },\n",
            "  { name: \"rst_n\",  wave: \"01..........\" },\n",
            "  { name: \"data\",  wave: \"=.===zx====z\", data: \"0 1 2 3 0 1 2 3\" },\n",
            "  { name: \"data[2]\",  wave: \"0....zx0...z\" },\n",
            "  { name: \"data[1]\",  wave: \"0..1.zx0.1.z\" },\n",
            "  { name: \"data[0]\",  wave: \"0.101zx0101z\" },\n",
            "]}\n"
          ],
          "name": "stdout"
        }
      ]
    }
  ]
}
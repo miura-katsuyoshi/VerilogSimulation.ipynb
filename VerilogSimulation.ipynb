{
  "nbformat": 4,
  "nbformat_minor": 0,
  "metadata": {
    "colab": {
      "name": "VerilogSimulation.ipynb",
      "provenance": [],
      "collapsed_sections": [],
      "authorship_tag": "ABX9TyOClY6AOUwfwUvxKw9Bm83v",
      "include_colab_link": true
    },
    "kernelspec": {
      "name": "python3",
      "display_name": "Python 3"
    },
    "language_info": {
      "name": "python"
    }
  },
  "cells": [
    {
      "cell_type": "markdown",
      "metadata": {
        "id": "view-in-github",
        "colab_type": "text"
      },
      "source": [
        "<a href=\"https://colab.research.google.com/github/miura-katsuyoshi/VerilogSimulation.ipynb/blob/main/VerilogSimulation.ipynb\" target=\"_parent\"><img src=\"https://colab.research.google.com/assets/colab-badge.svg\" alt=\"Open In Colab\"/></a>"
      ]
    },
    {
      "cell_type": "code",
      "metadata": {
        "colab": {
          "base_uri": "https://localhost:8080/"
        },
        "id": "UMy6zCUKrQBO",
        "outputId": "6dcbf966-2a67-48af-9b33-514240216c0f"
      },
      "source": [
        "!apt install iverilog"
      ],
      "execution_count": 24,
      "outputs": [
        {
          "output_type": "stream",
          "text": [
            "Reading package lists... Done\n",
            "Building dependency tree       \n",
            "Reading state information... Done\n",
            "iverilog is already the newest version (10.1-0.1build1).\n",
            "0 upgraded, 0 newly installed, 0 to remove and 39 not upgraded.\n"
          ],
          "name": "stdout"
        }
      ]
    },
    {
      "cell_type": "code",
      "metadata": {
        "colab": {
          "base_uri": "https://localhost:8080/"
        },
        "id": "r17tLjWUr0o2",
        "outputId": "4d9b3113-2cab-4298-e551-459383585e37"
      },
      "source": [
        "verilog_source = \"\"\"\n",
        "// Simple counter example\n",
        "`timescale 1ns/1ns\n",
        "module main;\n",
        "    reg clk;\n",
        "    reg rst_n;\n",
        "    reg [2:0] data;\n",
        " \n",
        "    initial clk = 1'b1;\n",
        "    always #5 clk = ~clk;\n",
        " \n",
        "    initial begin\n",
        "        $display(\"time,clk,rst_n,data*,data[2],data[1],data[0]\");\n",
        "        $monitor(\"%t,%b,%b,%d,%b,%b,%b\", $realtime, clk, rst_n, data, data[2], data[1], data[0]);\n",
        "        rst_n <= 1'b0;\n",
        "        repeat(2) @(posedge clk);\n",
        "        rst_n <= 1'b1;\n",
        "        repeat(10) @(posedge clk);\n",
        "        $finish ;\n",
        "    end\n",
        " \n",
        "    always @(posedge clk or negedge rst_n) begin\n",
        "        if(~rst_n) data <= 8'd0;\n",
        "        else data <= data + 1;\n",
        "    end\n",
        "endmodule\n",
        "\"\"\"\n",
        "\n",
        "with open(\"main.v\", \"wt\") as f:\n",
        "  f.write(verilog_source)\n",
        "\n",
        "!iverilog -o main main.v\n",
        "!vvp main | tee graph.txt"
      ],
      "execution_count": 27,
      "outputs": [
        {
          "output_type": "stream",
          "text": [
            "time,clk,rst_n,data*,data[2],data[1],data[0]\n",
            "                   0,1,0,0,0,0,0\n",
            "                   5,0,0,0,0,0,0\n",
            "                  10,1,0,0,0,0,0\n",
            "                  15,0,0,0,0,0,0\n",
            "                  20,1,1,0,0,0,0\n",
            "                  25,0,1,0,0,0,0\n",
            "                  30,1,1,1,0,0,1\n",
            "                  35,0,1,1,0,0,1\n",
            "                  40,1,1,2,0,1,0\n",
            "                  45,0,1,2,0,1,0\n",
            "                  50,1,1,3,0,1,1\n",
            "                  55,0,1,3,0,1,1\n",
            "                  60,1,1,4,1,0,0\n",
            "                  65,0,1,4,1,0,0\n",
            "                  70,1,1,5,1,0,1\n",
            "                  75,0,1,5,1,0,1\n",
            "                  80,1,1,6,1,1,0\n",
            "                  85,0,1,6,1,1,0\n",
            "                  90,1,1,7,1,1,1\n",
            "                  95,0,1,7,1,1,1\n",
            "                 100,1,1,0,0,0,0\n",
            "                 105,0,1,0,0,0,0\n",
            "                 110,1,1,1,0,0,1\n",
            "                 115,0,1,1,0,0,1\n",
            "                 120,1,1,2,0,1,0\n"
          ],
          "name": "stdout"
        }
      ]
    },
    {
      "cell_type": "code",
      "metadata": {
        "colab": {
          "base_uri": "https://localhost:8080/",
          "height": 388
        },
        "id": "83SeRUA1oDgU",
        "outputId": "4ece72ad-c3a2-46a0-f8ef-0acdd8848163"
      },
      "source": [
        "TRANSITION_TIME = 2.0 # 遷移時間（立ち上がり時間、立ち下がり時間）但し、\"clk\" は常に遷移時間=0\n",
        "GRAPH_WIDTH = 20.0    # グラフの横幅\n",
        "GRAPH_HEIGHT = 1.0    # グラフの高さ（波形１つ分）\n",
        "GRAPH_COLOR = \"green\" # 波形の色\n",
        "\n",
        "import matplotlib.pyplot as plt\n",
        "import numpy as np\n",
        "\n",
        "with open(\"graph.txt\") as f:\n",
        "  monitor_output = f.readlines()\n",
        "\n",
        "while \"\" in monitor_output:\n",
        "  monitor_output.remove(\"\")\n",
        "for i in range(len(monitor_output)):\n",
        "  monitor_output[i] = monitor_output[i].split(',')\n",
        "signal_names = monitor_output.pop(0)\n",
        "is_multibit = [name[-1]==\"*\" for name in signal_names]\n",
        "for j in range(len(signal_names)):\n",
        "  if signal_names[j][-1]==\"*\":\n",
        "    signal_names[j] = signal_names[j][0:-1]\n",
        "  else:\n",
        "    for i in range(len(monitor_output)):\n",
        "      monitor_output[i][j] = int(monitor_output[i][j])\n",
        "num_signals = len(signal_names) - 1\n",
        "\n",
        "plt.figure(figsize=(GRAPH_WIDTH, num_signals * GRAPH_HEIGHT))\n",
        "for j in range(1,num_signals+1):\n",
        "  ax = plt.subplot(num_signals, 1, j)\n",
        "  ax.yaxis.set_ticks([])\n",
        "  ax.spines['left'].set_visible(False)\n",
        "  ax.spines['right'].set_visible(False)\n",
        "  ax.spines['top'].set_visible(False)\n",
        "  ax.text(0, 0.4, signal_names[j], horizontalalignment=\"right\")\n",
        "  ax.set_ylim(-0.1,1.1)\n",
        "  if j < num_signals:\n",
        "    plt.setp(ax.get_xticklabels(), visible=False)\n",
        "  else:\n",
        "    ax.set_xlabel(signal_names[0])\n",
        "  if is_multibit[j]:\n",
        "    x = [monitor_output[0][0]]\n",
        "    y0 = [0]\n",
        "    y1 = [1]\n",
        "    ax.text(TRANSITION_TIME, 0.4, monitor_output[0][j])\n",
        "    for i in range(1,len(monitor_output)):\n",
        "      x.append(monitor_output[i][0])\n",
        "      y0.append(y0[-1])\n",
        "      y1.append(y1[-1])\n",
        "      if  i < len(monitor_output) - 1 and monitor_output[i][0] + TRANSITION_TIME >= monitor_output[i+1][0]:\n",
        "        x.append(monitor_output[i+1][0])\n",
        "      else:\n",
        "        x.append(monitor_output[i][0]+TRANSITION_TIME)\n",
        "      if monitor_output[i][j]!=monitor_output[i-1][j]:\n",
        "        y0.append(1-y0[-1])\n",
        "        y1.append(1-y1[-1])\n",
        "        ax.text(x[-1], 0.4, monitor_output[i][j])\n",
        "      else:\n",
        "        y0.append(y0[-1])\n",
        "        y1.append(y1[-1])\n",
        "    plt.plot(x, y0, color=GRAPH_COLOR)\n",
        "    plt.plot(x, y1, color=GRAPH_COLOR)\n",
        "  else:\n",
        "    x = [monitor_output[0][0]]\n",
        "    y = [monitor_output[0][j]]\n",
        "    for i in range(1,len(monitor_output)):\n",
        "      x.append(monitor_output[i][0])\n",
        "      y.append(monitor_output[i-1][j])\n",
        "      if signal_names[j]==\"clk\":\n",
        "        x.append(monitor_output[i][0])\n",
        "      elif  i < len(monitor_output) - 1 and monitor_output[i][0] + TRANSITION_TIME >= monitor_output[i+1][0]:\n",
        "        x.append(monitor_output[i+1][0])\n",
        "      else:\n",
        "        x.append(monitor_output[i][0]+TRANSITION_TIME)\n",
        "      y.append(monitor_output[i][j])\n",
        "    x.append(monitor_output[-1][0]+TRANSITION_TIME)\n",
        "    y.append(monitor_output[-1][j])\n",
        "    plt.plot(x, y, color=GRAPH_COLOR)\n",
        "\n",
        "plt.show()\n",
        "# plt.savefig(\"waveform.svg\", format=\"svg\")   # グラフをPNG形式で保存したい場合は、plt.show() をコメントアウトし、この行を有効に\n",
        "# plt.savefig(\"waveform.png\", format=\"png\")   # グラフをSVG形式で保存したい場合は、plt.show() をコメントアウトし、この行を有効に\n"
      ],
      "execution_count": 28,
      "outputs": [
        {
          "output_type": "display_data",
          "data": {
            "image/png": "[encoded data removed]",
            "text/plain": [
              "<Figure size 1440x432 with 6 Axes>"
            ]
          },
          "metadata": {
            "tags": [],
            "needs_background": "light"
          }
        }
      ]
    },
    {
      "cell_type": "code",
      "metadata": {
        "id": "GTjuZlerv8nF"
      },
      "source": [
        ""
      ],
      "execution_count": null,
      "outputs": []
    }
  ]
}
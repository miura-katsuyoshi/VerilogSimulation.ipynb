{
  "nbformat": 4,
  "nbformat_minor": 0,
  "metadata": {
    "colab": {
      "name": "VerilogSimulation.ipynb のコピー",
      "provenance": [],
      "collapsed_sections": [],
      "toc_visible": true,
      "authorship_tag": "ABX9TyNtUWhBwdeOsud3/VF6kVIN",
      "include_colab_link": true
    },
    "kernelspec": {
      "name": "python3",
      "display_name": "Python 3"
    },
    "language_info": {
      "name": "python"
    }
  },
  "cells": [
    {
      "cell_type": "markdown",
      "metadata": {
        "id": "view-in-github",
        "colab_type": "text"
      },
      "source": [
        "<a href=\"https://colab.research.google.com/github/miura-katsuyoshi/VerilogSimulation.ipynb/blob/main/VerilogSimulation_ipynb_%E3%81%AE%E3%82%B3%E3%83%94%E3%83%BC.ipynb\" target=\"_parent\"><img src=\"https://colab.research.google.com/assets/colab-badge.svg\" alt=\"Open In Colab\"/></a>"
      ]
    },
    {
      "cell_type": "code",
      "metadata": {
        "colab": {
          "base_uri": "https://localhost:8080/"
        },
        "id": "UMy6zCUKrQBO",
        "outputId": "d2d2201b-1003-444d-a37c-13e95a583417"
      },
      "source": [
        "!apt install iverilog"
      ],
      "execution_count": 1,
      "outputs": [
        {
          "output_type": "stream",
          "text": [
            "Reading package lists... Done\n",
            "Building dependency tree       \n",
            "Reading state information... Done\n",
            "Suggested packages:\n",
            "  gtkwave\n",
            "The following NEW packages will be installed:\n",
            "  iverilog\n",
            "0 upgraded, 1 newly installed, 0 to remove and 39 not upgraded.\n",
            "Need to get 1,811 kB of archives.\n",
            "After this operation, 6,206 kB of additional disk space will be used.\n",
            "Get:1 http://archive.ubuntu.com/ubuntu bionic/universe amd64 iverilog amd64 10.1-0.1build1 [1,811 kB]\n",
            "Fetched 1,811 kB in 1s (2,086 kB/s)\n",
            "Selecting previously unselected package iverilog.\n",
            "(Reading database ... 160772 files and directories currently installed.)\n",
            "Preparing to unpack .../iverilog_10.1-0.1build1_amd64.deb ...\n",
            "Unpacking iverilog (10.1-0.1build1) ...\n",
            "Setting up iverilog (10.1-0.1build1) ...\n",
            "Processing triggers for man-db (2.8.3-2ubuntu0.1) ...\n"
          ],
          "name": "stdout"
        }
      ]
    },
    {
      "cell_type": "markdown",
      "metadata": {
        "id": "2QvPUxWZyJLy"
      },
      "source": [
        "## シミュレーション実行\n",
        "\n",
        "以下のコードセルの `verilog_source = \"\"\"` から `\"\"\"` の間に、Verilog ソースコードを貼り付け、実行してください。\n",
        "\n",
        "initial ブロックの先頭で、 `$display` 関数を用いて、波形表示する信号名をコンマ区切りで表示するようにしてください。1カラム目は横軸のラベルになります。複数ビットの信号は、信号名の後に `*` を付けてください。\n",
        "\n",
        "例）`$display(\"time [ns],clk,rst_n,data*,data[2],data[1],data[0]\");`\n",
        "\n",
        "`$monitor` 関数を用いて、波形表示する信号の値を表示するようにしてください。1カラム目は `$realtime` で時刻を表示してください。\n",
        "\n",
        "例）`$monitor(\"%t,%b,%b,%d,%b,%b,%b\", $realtime, clk, rst_n, data, data[2], data[1], data[0]);`"
      ]
    },
    {
      "cell_type": "code",
      "metadata": {
        "colab": {
          "base_uri": "https://localhost:8080/"
        },
        "id": "r17tLjWUr0o2",
        "outputId": "0055caca-8d47-44ab-d46d-f230620a5722"
      },
      "source": [
        "verilog_source = \"\"\"\n",
        "// Simple counter example\n",
        "`timescale 1ns/1ns\n",
        "module main;\n",
        "  reg clk;\n",
        "  reg rst_n;\n",
        "  reg [2:0] data;\n",
        "\n",
        "  initial begin\n",
        "    $display(\"time [ns],clk,rst_n,data*,data[2],data[1],data[0]\");\n",
        "    $monitor(\"%t,%b,%b,%d,%b,%b,%b\", $realtime, clk, rst_n, data, data[2], data[1], data[0]);\n",
        "    rst_n <= 1'b0;\n",
        "    repeat(2) @(posedge clk);\n",
        "    rst_n <= 1'b1;\n",
        "    repeat(10) @(posedge clk);\n",
        "    $finish ;\n",
        "  end\n",
        "\n",
        "  initial clk <= 1'b1;\n",
        "  always #5 clk <= ~clk;\n",
        "\n",
        "  always @(posedge clk or negedge rst_n) begin\n",
        "    if(~rst_n) data <= 8'd0;\n",
        "    else begin\n",
        "      if(data==3) data <= 3'bz;\n",
        "      else if(data===3'bz) data <= 3'bx;\n",
        "      else if(data===3'bx) data <= 3'b0;\n",
        "      else data <= data + 1;\n",
        "    end\n",
        "  end\n",
        "endmodule\n",
        "\"\"\"\n",
        "\n",
        "with open(\"main.v\", \"wt\") as f:\n",
        "  f.write(verilog_source)\n",
        "\n",
        "!iverilog -o main main.v\n",
        "!vvp main | tee graph.txt"
      ],
      "execution_count": 2,
      "outputs": [
        {
          "output_type": "stream",
          "text": [
            "time [ns],clk,rst_n,data*,data[2],data[1],data[0]\n",
            "                   0,1,0,0,0,0,0\n",
            "                   5,0,0,0,0,0,0\n",
            "                  10,1,1,0,0,0,0\n",
            "                  15,0,1,0,0,0,0\n",
            "                  20,1,1,1,0,0,1\n",
            "                  25,0,1,1,0,0,1\n",
            "                  30,1,1,2,0,1,0\n",
            "                  35,0,1,2,0,1,0\n",
            "                  40,1,1,3,0,1,1\n",
            "                  45,0,1,3,0,1,1\n",
            "                  50,1,1,z,z,z,z\n",
            "                  55,0,1,z,z,z,z\n",
            "                  60,1,1,x,x,x,x\n",
            "                  65,0,1,x,x,x,x\n",
            "                  70,1,1,0,0,0,0\n",
            "                  75,0,1,0,0,0,0\n",
            "                  80,1,1,1,0,0,1\n",
            "                  85,0,1,1,0,0,1\n",
            "                  90,1,1,2,0,1,0\n",
            "                  95,0,1,2,0,1,0\n",
            "                 100,1,1,3,0,1,1\n",
            "                 105,0,1,3,0,1,1\n",
            "                 110,1,1,z,z,z,z\n"
          ],
          "name": "stdout"
        }
      ]
    },
    {
      "cell_type": "markdown",
      "metadata": {
        "id": "xg7Vq9-6yZpq"
      },
      "source": [
        "## グラフの描画\n",
        "\n",
        "シミュレーションが実行できたら、以下のコードセルを実行してください。\n",
        "\n",
        "`clk` は、遷移時間0で信号が変化します。`clk` 以外の信号は、`TRANSITION_TIME` の遷移時間で信号が変化します。但し、`TRANSITION_TIME` 未満の時間で次のイベントが生ずる場合は、次のイベントまでに信号が変化します。\n",
        "\n",
        "クロック信号名を変えたい場合は、`CLOCK_NAME=\"clk\"` を修正してください。信号変化時の遷移時間を変えたい場合は、`TRANSITION_TIME = 2.0` を修正してください。"
      ]
    },
    {
      "cell_type": "code",
      "metadata": {
        "colab": {
          "base_uri": "https://localhost:8080/",
          "height": 388
        },
        "id": "83SeRUA1oDgU",
        "outputId": "00d9cb04-0cc6-4470-9574-614d9848e7a9"
      },
      "source": [
        "CLOCK_NAME=\"clk\"      # クロック信号\n",
        "TRANSITION_TIME = 2.0 # 遷移時間（立ち上がり時間、立ち下がり時間）但し、\"clk\" は常に遷移時間=0\n",
        "                      # x/z<->0/1 の遷移は TRANSITION_TIME/2 (スロープを揃えるため）\n",
        "LABEL_SEP = 1.0       # 信号名のラベル右端の表示位置。単位は時間軸単位\n",
        "GRAPH_WIDTH = 20.0    # グラフの横幅（単位は時間軸単位ではない）\n",
        "GRAPH_HEIGHT = 1.0    # グラフの高さ（波形１つ分）（単位は時間軸単位ではない）\n",
        "GRAPH_COLOR = \"green\" # 波形の色（通常）\n",
        "GRAPH_COLOR_X = \"red\" # 波形の色（X）\n",
        "GRAPH_COLOR_Z = \"blue\"# 波形の色（Z）\n",
        "\n",
        "import matplotlib.pyplot as plt\n",
        "\n",
        "with open(\"graph.txt\") as f:\n",
        "  monitor_output = f.readlines()\n",
        "\n",
        "while \"\" in monitor_output:\n",
        "  monitor_output.remove(\"\")\n",
        "for i in range(len(monitor_output)):\n",
        "  monitor_output[i] = monitor_output[i].split(',')\n",
        "  for j in range(len(monitor_output[i])):\n",
        "    monitor_output[i][j] = monitor_output[i][j].strip()\n",
        "signal_names = monitor_output.pop(0)\n",
        "is_multibit = [name[-1]==\"*\" for name in signal_names]\n",
        "for j in range(len(signal_names)):\n",
        "  if signal_names[j][-1]==\"*\":\n",
        "    signal_names[j] = signal_names[j][0:-1]\n",
        "num_signals = len(signal_names) - 1\n",
        "for i in range(len(monitor_output)):\n",
        "  monitor_output[i][0] = int(monitor_output[i][0])  # time\n",
        "\n",
        "def plot_line(x, y):\n",
        "  if y[0]=='x':\n",
        "    color=GRAPH_COLOR_X\n",
        "  elif y[0]=='z':\n",
        "    color=GRAPH_COLOR_Z\n",
        "  else:\n",
        "    color=GRAPH_COLOR\n",
        "  for i in range(len(y)):\n",
        "    if y[i]=='x' or y[i]=='z':\n",
        "      y[i] = 0.5\n",
        "    else:\n",
        "      y[i] = float(y[i])\n",
        "  plt.plot(x, y, color=color)\n",
        "\n",
        "def calc_transitioned_time(monitor_output, i, trans_time):\n",
        "  cur_time = monitor_output[i][0]\n",
        "  if i < len(monitor_output)-1:\n",
        "    nex_time = monitor_output[i+1][0]\n",
        "  else:\n",
        "    nex_time = cur_time + trans_time\n",
        "  if nex_time < cur_time + trans_time:\n",
        "    return nex_time\n",
        "  return cur_time + trans_time\n",
        "\n",
        "plt.figure(figsize=(GRAPH_WIDTH, num_signals * GRAPH_HEIGHT))\n",
        "for j in range(1,num_signals+1):\n",
        "  if signal_names[j]==CLOCK_NAME:\n",
        "    trans_time = 0\n",
        "  else:\n",
        "    trans_time = TRANSITION_TIME\n",
        "  ax = plt.subplot(num_signals, 1, j)\n",
        "  ax.yaxis.set_ticks([])\n",
        "  ax.spines['left'].set_visible(False)\n",
        "  ax.spines['right'].set_visible(False)\n",
        "  ax.spines['top'].set_visible(False)\n",
        "  ax.text(-LABEL_SEP, 0.4, signal_names[j], horizontalalignment=\"right\")\n",
        "  ax.set_xlim(0.0, monitor_output[-1][0]+TRANSITION_TIME)\n",
        "  ax.set_ylim(-0.1,1.1)\n",
        "  if j < num_signals:\n",
        "    plt.setp(ax.get_xticklabels(), visible=False)\n",
        "  else:\n",
        "    ax.set_xlabel(signal_names[0])\n",
        "  x = [monitor_output[0][0]]\n",
        "  if is_multibit[j] and monitor_output[0][j]!=\"x\" and monitor_output[0][j]!=\"z\":\n",
        "    y0 = [0]\n",
        "    y1 = [1]\n",
        "    ax.text(0.0, 0.4, monitor_output[0][j])\n",
        "  else:\n",
        "    y0 = [monitor_output[0][j]]\n",
        "    y1 = [monitor_output[0][j]]\n",
        "  for i in range(1,len(monitor_output)):\n",
        "    cur_time = monitor_output[i][0]     # current time\n",
        "    pre_signal = monitor_output[i-1][j] # previous signal\n",
        "    cur_signal = monitor_output[i][j]   # current signal\n",
        "    if pre_signal != cur_signal:\n",
        "      x.append(cur_time)\n",
        "      y0.append(y0[-1])\n",
        "      y1.append(y1[-1])\n",
        "      if (pre_signal=='x' or pre_signal=='z') and (cur_signal!='x' and cur_signal!='z'):\n",
        "        # x/z -> normal\n",
        "        plot_line(x, y0)\n",
        "        x = [cur_time, calc_transitioned_time(monitor_output, i, trans_time/2)]\n",
        "        if is_multibit[j]:\n",
        "          y0 = [0.5, 0]\n",
        "          y1 = [0.5, 1]\n",
        "          ax.text(x[-1], 0.4, cur_signal)\n",
        "        else:\n",
        "          y0 = [0.5, cur_signal]\n",
        "          y1 = [0.5, cur_signal]\n",
        "      elif  (pre_signal!='x' and pre_signal!='z') and (cur_signal=='x' or cur_signal=='z'):\n",
        "        # normal -> x/z\n",
        "        x.append(calc_transitioned_time(monitor_output, i, trans_time/2))\n",
        "        y0.append(0.5)\n",
        "        y1.append(0.5)\n",
        "        plot_line(x, y0)\n",
        "        if is_multibit[j]:\n",
        "          plot_line(x, y1)\n",
        "        x = [calc_transitioned_time(monitor_output, i, trans_time/2)]\n",
        "        y0 = [cur_signal]\n",
        "        y1 = [cur_signal]\n",
        "      elif  (pre_signal=='x' or pre_signal=='z') and (cur_signal=='x' or cur_signal=='z'):\n",
        "        # x->z / z->x\n",
        "        plot_line(x, y0)\n",
        "        x = [cur_time]\n",
        "        y0 = [cur_signal]\n",
        "        y1 = [cur_signal]\n",
        "      else:\n",
        "        # normal -> normal\n",
        "        x.append(calc_transitioned_time(monitor_output, i, trans_time))\n",
        "        if is_multibit[j]:\n",
        "          y0.append(1 - float(y0[-1]))\n",
        "          y1.append(1 - float(y1[-1]))\n",
        "          ax.text(x[-1], 0.4, monitor_output[i][j])\n",
        "        else:\n",
        "          y0.append(cur_signal)\n",
        "          y1.append(cur_signal)\n",
        "  x.append(monitor_output[-1][0] + TRANSITION_TIME)\n",
        "  y0.append(y0[-1])\n",
        "  y1.append(y1[-1])\n",
        "  plot_line(x, y0)\n",
        "  if is_multibit[j] and y0[-1]!='x' and y0[-1]!='z':\n",
        "    plot_line(x, y1)\n",
        "\n",
        "plt.show()\n",
        "# plt.savefig(\"waveform.svg\", format=\"svg\")   # グラフをPNG形式で保存したい場合は、plt.show() をコメントアウトし、この行を有効に\n",
        "# plt.savefig(\"waveform.png\", format=\"png\")   # グラフをSVG形式で保存したい場合は、plt.show() をコメントアウトし、この行を有効に\n"
      ],
      "execution_count": 3,
      "outputs": [
        {
          "output_type": "display_data",
          "data": {
            "image/png": "[encoded data removed]",
            "text/plain": [
              "<Figure size 1440x432 with 6 Axes>"
            ]
          },
          "metadata": {
            "tags": [],
            "needs_background": "light"
          }
        }
      ]
    },
    {
      "cell_type": "code",
      "metadata": {
        "id": "GTjuZlerv8nF"
      },
      "source": [
        ""
      ],
      "execution_count": 3,
      "outputs": []
    }
  ]
}